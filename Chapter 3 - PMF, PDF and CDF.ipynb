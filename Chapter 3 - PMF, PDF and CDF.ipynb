{
 "cells": [
  {
   "cell_type": "markdown",
   "metadata": {
    "toc": true
   },
   "source": [
    "<h1>Table of Contents<span class=\"tocSkip\"></span></h1>\n",
    "<div class=\"toc\"><ul class=\"toc-item\"><li><span><a href=\"#-Probability-Mass-Function\" data-toc-modified-id=\"-Probability-Mass-Function-1\"><span class=\"toc-item-num\">1&nbsp;&nbsp;</span><font face=\"gotham\" color=\"purple\"> Probability Mass Function</font></a></span><ul class=\"toc-item\"><li><span><a href=\"#-Cumulative-Distribution-Function\" data-toc-modified-id=\"-Cumulative-Distribution-Function-1.1\"><span class=\"toc-item-num\">1.1&nbsp;&nbsp;</span><font face=\"gotham\" color=\"purple\"> Cumulative Distribution Function</font></a></span></li></ul></li><li><span><a href=\"#-Probability-Density-Function\" data-toc-modified-id=\"-Probability-Density-Function-2\"><span class=\"toc-item-num\">2&nbsp;&nbsp;</span><font face=\"gotham\" color=\"purple\"> Probability Density Function</font></a></span></li><li><span><a href=\"#Independent-Random-Variables\" data-toc-modified-id=\"Independent-Random-Variables-3\"><span class=\"toc-item-num\">3&nbsp;&nbsp;</span><font face=\"gotham\" color=\"purple\">Independent Random Variables</font></a></span></li><li><span><a href=\"#-Expected-Value-and-Variances\" data-toc-modified-id=\"-Expected-Value-and-Variances-4\"><span class=\"toc-item-num\">4&nbsp;&nbsp;</span><font face=\"gotham\" color=\"purple\"> Expected Value and Variances</font></a></span></li></ul></div>"
   ]
  },
  {
   "cell_type": "code",
   "execution_count": 9,
   "metadata": {},
   "outputs": [],
   "source": [
    "import numpy as np\n",
    "import matplotlib.pyplot as plt\n",
    "plt.style.use('fivethirtyeight')"
   ]
  },
  {
   "cell_type": "markdown",
   "metadata": {},
   "source": [
    "# <font face=\"gotham\" color=\"purple\"> Probability Mass Function"
   ]
  },
  {
   "cell_type": "markdown",
   "metadata": {},
   "source": [
    "If $X$ is a discrete variable with a finite range $R_X = \\{x_1,x_2,x_3...\\}$, the **probability mass function** (PMF) of $X$ is \n",
    "\n",
    "$$\n",
    "P_X(x_k)=P(X=x_k),\\ \\text{for } k=1,2,3\\ldots\n",
    "$$\n",
    "\n",
    "which is a function which maps the possible values to the corresponding probabilities. "
   ]
  },
  {
   "cell_type": "markdown",
   "metadata": {},
   "source": [
    "For instance, here is a discrete uniform distribution of a fair die"
   ]
  },
  {
   "cell_type": "code",
   "execution_count": 10,
   "metadata": {},
   "outputs": [
    {
     "data": {
      "image/png": "[encoded data removed]",
      "text/plain": [
       "<Figure size 432x288 with 1 Axes>"
      ]
     },
     "metadata": {},
     "output_type": "display_data"
    }
   ],
   "source": [
    "pmf = 1/6*np.ones(6)\n",
    "diceN = np.arange(1,7)\n",
    "plt.stem(diceN, pmf,use_line_collection = True)\n",
    "plt.axis([0, 7, 0, .3])\n",
    "plt.title('PMF of A Fair Die')\n",
    "plt.show()"
   ]
  },
  {
   "cell_type": "markdown",
   "metadata": {},
   "source": [
    "## <font face=\"gotham\" color=\"purple\"> Cumulative Distribution Function"
   ]
  },
  {
   "cell_type": "markdown",
   "metadata": {},
   "source": [
    "The **cumulative distribution function** (CDF) of random variable $X$ is defined as\n",
    "$$\n",
    "F_{X}(x)=P(X \\leq x), \\text { for all } x \\in \\mathbb{R}\n",
    "$$"
   ]
  },
  {
   "cell_type": "markdown",
   "metadata": {},
   "source": [
    "The CDF of the die example is "
   ]
  },
  {
   "cell_type": "code",
   "execution_count": 11,
   "metadata": {},
   "outputs": [
    {
     "data": {
      "image/png": "[encoded data removed]",
      "text/plain": [
       "<Figure size 432x288 with 1 Axes>"
      ]
     },
     "metadata": {},
     "output_type": "display_data"
    }
   ],
   "source": [
    "pmf = 1/6*np.ones(6)\n",
    "cdf = np.cumsum(pmf)\n",
    "plt.stem(diceN, cdf ,use_line_collection = True)\n",
    "plt.axis([0, 7, 0, 1.1])\n",
    "plt.title('CDF of A Fair Die')\n",
    "plt.show()"
   ]
  },
  {
   "cell_type": "markdown",
   "metadata": {},
   "source": [
    "One particular useful formula for calculating probability within an interval is\n",
    "\n",
    "$$\n",
    "P(a<X\\leq b) = F_X(b)-F_X(a)\n",
    "$$\n",
    "\n",
    "It is commonly used for computing the probability of a range, for instance, what is the probability $P(2<X\\leq 5)$ in this case?"
   ]
  },
  {
   "cell_type": "markdown",
   "metadata": {},
   "source": [
    "Using the formula, \n",
    "\n",
    "$$\n",
    "P(2<X\\leq5) = F_X(5) - F_X(2) = 5/6 - 2/6 = 1/2\n",
    "$$"
   ]
  },
  {
   "cell_type": "markdown",
   "metadata": {},
   "source": [
    "# <font face=\"gotham\" color=\"purple\"> Probability Density Function"
   ]
  },
  {
   "cell_type": "markdown",
   "metadata": {},
   "source": [
    "The **Probability Density Function** (PDF) is concept used for continuous distribution. For instance the temperature of a room follows a continuous distribution.\n",
    "\n",
    "We denote PDF as $f_X(x)$, however any realization of $x$ must be $0$ probability, using the room temperature example, the probability that a room reaches exactly $20  ^\\circ \\text{C}$ is theoretically $0$. $f_X(x = 25)= 0$. Therefore to obtain positive probability, we must delimit range of the arguments $(x,\\ \\Delta x)$\n",
    "\n",
    "$$\n",
    "f_{X}(x)=\\lim _{\\Delta \\rightarrow 0^{+}} \\frac{P(x<X \\leq x+\\Delta)}{\\Delta}\n",
    "$$"
   ]
  },
  {
   "cell_type": "markdown",
   "metadata": {},
   "source": [
    "Furthermore, use CDF formula and definition of derivative, the relation of CDF and PDF\n",
    "\n",
    "$$\n",
    "f_{X}(x)=\\lim _{\\Delta \\rightarrow 0} \\frac{F_{X}(x+\\Delta)-F_{X}(x)}{\\Delta}=\\frac{d F_{X}(x)}{d x}=F_{X}^{\\prime}(x)\n",
    "$$\n",
    "\n",
    "We will see examples in next chapter."
   ]
  },
  {
   "cell_type": "markdown",
   "metadata": {},
   "source": [
    "# <font face=\"gotham\" color=\"purple\">Independent Random Variables"
   ]
  },
  {
   "cell_type": "markdown",
   "metadata": {},
   "source": [
    "Independent R.V.s are similar to independent events, recall that independent events have the property\n",
    "\n",
    "$$\n",
    "p(A\\cap B) =p (A)p(B)\n",
    "$$"
   ]
  },
  {
   "cell_type": "markdown",
   "metadata": {},
   "source": [
    "Now consider two random variable $A$ and $B$, they are independent as long as\n",
    "\n",
    "$$\n",
    "p(X=x,Y=y)=p(X=x)p(X=y)\n",
    "$$"
   ]
  },
  {
   "cell_type": "markdown",
   "metadata": {},
   "source": [
    "In general, independent variables have the property:\n",
    "\n",
    "$$\n",
    "p(X_1=x_1,X_2=x_2, ..., X_n = x_n)=p(X_1=x_1)p(X_2=x_2)...p(X_n=x_n)=\\prod_{i=1}^np(X_i=x_i)\n",
    "$$"
   ]
  },
  {
   "cell_type": "markdown",
   "metadata": {},
   "source": [
    "# <font face=\"gotham\" color=\"purple\"> Expected Value and Variances"
   ]
  },
  {
   "cell_type": "markdown",
   "metadata": {},
   "source": [
    "The **expected value** of discrete and continuous random variables are\n",
    "\n",
    "$$\n",
    "\\text{Discrete:}\\qquad E(X)=\\sum_{i=1}^k x_ip_X(x_i)=\\sum_{i=1}^k x_i p(X_i = x_i)\n",
    "$$\n",
    "\n",
    "$$\\text{Continuous:}\\qquad E(X) = \\int_{-\\infty}^{\\infty}xf_X(x)dx$$"
   ]
  },
  {
   "cell_type": "markdown",
   "metadata": {},
   "source": [
    "They are expressing the same idea that weighting each possibilities equally, then sum up."
   ]
  },
  {
   "cell_type": "markdown",
   "metadata": {},
   "source": [
    "The variance of discrete and continuous random variables are similar"
   ]
  },
  {
   "cell_type": "markdown",
   "metadata": {},
   "source": [
    "$$\n",
    "\\text{Discrete:}\\qquad\\operatorname{Var}(X)=E\\left[\\left(X-\\mu_{X}\\right)^{2}\\right]=E (X^{2})-[E (X)]^{2}\n",
    "$$\n",
    "\n",
    "\n",
    "\\begin{aligned}\n",
    "\\text{Continuous:}\\qquad \n",
    "\\operatorname{Var}(X)&= E\\left[\\left(X-\\mu_{X}\\right)^{2}\\right]=\\int_{-\\infty}^{\\infty}\\left(x-\\mu_{X}\\right)^{2} f_{X}(x) d x \\\\\n",
    "&=E (X^{2})-[E (X)]^{2}=\\int_{-\\infty}^{\\infty} x^{2} f_{X}(x) d x-\\mu_{X}^{2}\n",
    "\\end{aligned}"
   ]
  },
  {
   "cell_type": "markdown",
   "metadata": {},
   "source": [
    "And a common method for manual calculation of variance"
   ]
  },
  {
   "cell_type": "markdown",
   "metadata": {},
   "source": [
    "$$\n",
    "\\begin{aligned}\n",
    "\\operatorname{Var}(X) &=E\\left[\\left(X-\\mu_{X}\\right)^{2}\\right] \\\\\n",
    "&=E\\left[X^{2}-2 \\mu_{X} X+\\mu_{X}^{2}\\right] \\\\\n",
    "&=E\\left[X^{2}\\right]-2 E\\left[\\mu_{X} X\\right]+E\\left[\\mu_{X}^{2}\\right]\\\\\n",
    "&=E\\left[X^{2}\\right]-2 \\mu_{X}^{2}+\\mu_{X}^{2}\\\\\n",
    "&=E\\left[X^{2}\\right]-\\mu_{X}^{2}\n",
    "\\end{aligned}\n",
    "$$"
   ]
  }
 ],
 "metadata": {
  "kernelspec": {
   "display_name": "Python 3",
   "language": "python",
   "name": "python3"
  },
  "language_info": {
   "codemirror_mode": {
    "name": "ipython",
    "version": 3
   },
   "file_extension": ".py",
   "mimetype": "text/x-python",
   "name": "python",
   "nbconvert_exporter": "python",
   "pygments_lexer": "ipython3",
   "version": "3.8.8"
  },
  "toc": {
   "base_numbering": 1,
   "nav_menu": {},
   "number_sections": true,
   "sideBar": true,
   "skip_h1_title": false,
   "title_cell": "Table of Contents",
   "title_sidebar": "Contents",
   "toc_cell": true,
   "toc_position": {},
   "toc_section_display": true,
   "toc_window_display": false
  }
 },
 "nbformat": 4,
 "nbformat_minor": 4
}
